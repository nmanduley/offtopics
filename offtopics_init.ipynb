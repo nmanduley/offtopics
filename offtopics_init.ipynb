{
 "cells": [
  {
   "cell_type": "markdown",
   "id": "30efc4b8",
   "metadata": {},
   "source": [
    "# Codigo para generar el orden de presentacion de los offtopics\n",
    "### Nota: este codigo solo necesita ejecutarse una vez. Otro codigo se encargara de leer el CSV y actualizarlo segun corresponda."
   ]
  },
  {
   "cell_type": "markdown",
   "id": "ad28cfbf",
   "metadata": {},
   "source": [
    "### 1. Lista de alumnos y condiciones iniciales"
   ]
  },
  {
   "cell_type": "code",
   "execution_count": 3,
   "id": "906a63c3",
   "metadata": {},
   "outputs": [
    {
     "name": "stdout",
     "output_type": "stream",
     "text": [
      "{'Santino': 2, 'Daniel': 1, 'Gonzalo': 1, 'Jaime': 1, 'Nicolas': 1, 'Carlos': 1, 'Khadija': 1, 'Noelia': 1, 'Sonia': 1, 'Almudena': 0}\n"
     ]
    }
   ],
   "source": [
    "alumnos = [\"Teresa\", \"Jaime\", \"Noelia\", \"Khadija\", \"Nicolas\", \\\n",
    "         \"Gonzalo\", \"Carlos\", \"Sonia\", \"Almudena\", \"Santino\", \"Daniel\"]\n",
    "\n",
    "historial = {\"Santino\": 2, \"Daniel\": 1, \"Gonzalo\": 1, \"Jaime\": 1, \"Nicolas\": 1, \"Carlos\": 1, \"Khadija\": 1,\n",
    "            \"Noelia\":1, \"Sonia\":1, \"Almudena\":0}\n",
    "print(historial)"
   ]
  },
  {
   "cell_type": "markdown",
   "id": "34e0bfe4",
   "metadata": {},
   "source": [
    "### 2. Generar orden aleatorio "
   ]
  },
  {
   "cell_type": "code",
   "execution_count": 4,
   "id": "42f8e88e",
   "metadata": {},
   "outputs": [
    {
     "name": "stdout",
     "output_type": "stream",
     "text": [
      "{'Santino': 2, 'Daniel': 1, 'Gonzalo': 1, 'Jaime': 1, 'Nicolas': 1, 'Carlos': 1, 'Khadija': 1, 'Noelia': 1, 'Sonia': 1, 'Almudena': 0, 'Teresa': 0}\n"
     ]
    }
   ],
   "source": [
    "import random\n",
    "random.shuffle(alumnos)\n",
    "\n",
    "for name in alumnos:\n",
    "    if name not in historial:\n",
    "        historial[name] = 0\n",
    "\n",
    "print(historial)\n",
    "\n",
    "### Backup: orden definido en la sesion w2d1 (3 de octubre 2022)\n",
    "# Gonzalo, Jaime, Nicolas, Carlos, Teresa, Sonia, Noelia, Juan, Almudena, Khadija"
   ]
  },
  {
   "cell_type": "markdown",
   "id": "c7e96086",
   "metadata": {},
   "source": [
    "### 3. Guardar en archivo CSV"
   ]
  },
  {
   "cell_type": "code",
   "execution_count": 3,
   "id": "27041273",
   "metadata": {},
   "outputs": [],
   "source": [
    "import csv\n",
    "with open('offtopic_history.csv', 'w') as f:\n",
    "    for key in historial.keys():\n",
    "        f.write(\"%s, %s\\n\" % (key, historial[key]))"
   ]
  }
 ],
 "metadata": {
  "kernelspec": {
   "display_name": "Python 3.9.7 ('base')",
   "language": "python",
   "name": "python3"
  },
  "language_info": {
   "codemirror_mode": {
    "name": "ipython",
    "version": 3
   },
   "file_extension": ".py",
   "mimetype": "text/x-python",
   "name": "python",
   "nbconvert_exporter": "python",
   "pygments_lexer": "ipython3",
   "version": "3.9.12"
  },
  "vscode": {
   "interpreter": {
    "hash": "ad2bdc8ecc057115af97d19610ffacc2b4e99fae6737bb82f5d7fb13d2f2c186"
   }
  }
 },
 "nbformat": 4,
 "nbformat_minor": 5
}
