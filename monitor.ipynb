{
 "cells": [
  {
   "cell_type": "markdown",
   "id": "93526c2c",
   "metadata": {},
   "source": [
    "## Librerias y funciones utilizadas"
   ]
  },
  {
   "cell_type": "code",
   "execution_count": 1,
   "id": "4e87fe25",
   "metadata": {},
   "outputs": [],
   "source": [
    "import pandas as pd\n",
    "\n",
    "\n",
    "def next_turn(dataframe):\n",
    "    \"\"\"Examina el dataset y escoge el primer nombre con el valor minimo de la columna Count\"\"\"\n",
    "    count_min = dataframe[\"Count\"].min()\n",
    "    return dataframe[dataframe[\"Count\"]==count_min][\"Nombre\"].iloc[0]\n",
    "\n",
    "\n",
    "def update_dataset(dataframe, name):\n",
    "    \"\"\"Suma 1 al count del nombre especificado\"\"\"\n",
    "    dataframe.loc[dataframe[\"Nombre\"] == name, \"Count\"] += 1\n",
    "    return dataframe\n",
    "\n",
    "\n",
    "def manual_update(dataframe, names, count_values):\n",
    "    \"\"\"Actualizar manualmente el dataframe: 'name' y 'count_value' pueden ser listas, en cuyo caso \n",
    "    deberan tener el mismo numero de elementos\"\"\"\n",
    "    if type(names) is list:\n",
    "        for i in range(0, len(names)):\n",
    "            dataframe.loc[dataframe[\"Nombre\"] == names[i], \"Count\"] = count_values[i]\n",
    "        return dataframe\n",
    "    else:\n",
    "        dataframe.loc[dataframe[\"Nombre\"] == names, \"Count\"] = count_values\n",
    "        return dataframe\n",
    "\n",
    "\n",
    "def guardar_cambios(dataframe, filename):\n",
    "    \"\"\"Guarda el dataframe en formato CSV con el nombre especificado\"\"\"\n",
    "    dataframe.to_csv(filename, index=False, header=False)"
   ]
  },
  {
   "cell_type": "markdown",
   "id": "65f5e6b9",
   "metadata": {},
   "source": [
    "## Leer base de datos"
   ]
  },
  {
   "cell_type": "code",
   "execution_count": 3,
   "id": "8151ded7",
   "metadata": {},
   "outputs": [
    {
     "data": {
      "text/html": [
       "<div>\n",
       "<style scoped>\n",
       "    .dataframe tbody tr th:only-of-type {\n",
       "        vertical-align: middle;\n",
       "    }\n",
       "\n",
       "    .dataframe tbody tr th {\n",
       "        vertical-align: top;\n",
       "    }\n",
       "\n",
       "    .dataframe thead th {\n",
       "        text-align: right;\n",
       "    }\n",
       "</style>\n",
       "<table border=\"1\" class=\"dataframe\">\n",
       "  <thead>\n",
       "    <tr style=\"text-align: right;\">\n",
       "      <th></th>\n",
       "      <th>Nombre</th>\n",
       "      <th>Count</th>\n",
       "    </tr>\n",
       "  </thead>\n",
       "  <tbody>\n",
       "    <tr>\n",
       "      <th>0</th>\n",
       "      <td>Gonzalo</td>\n",
       "      <td>1</td>\n",
       "    </tr>\n",
       "    <tr>\n",
       "      <th>1</th>\n",
       "      <td>Jaime</td>\n",
       "      <td>1</td>\n",
       "    </tr>\n",
       "    <tr>\n",
       "      <th>2</th>\n",
       "      <td>Nicolas</td>\n",
       "      <td>1</td>\n",
       "    </tr>\n",
       "    <tr>\n",
       "      <th>3</th>\n",
       "      <td>Carlos</td>\n",
       "      <td>0</td>\n",
       "    </tr>\n",
       "    <tr>\n",
       "      <th>4</th>\n",
       "      <td>Teresa</td>\n",
       "      <td>0</td>\n",
       "    </tr>\n",
       "    <tr>\n",
       "      <th>5</th>\n",
       "      <td>Sonia</td>\n",
       "      <td>0</td>\n",
       "    </tr>\n",
       "    <tr>\n",
       "      <th>6</th>\n",
       "      <td>Noelia</td>\n",
       "      <td>0</td>\n",
       "    </tr>\n",
       "    <tr>\n",
       "      <th>7</th>\n",
       "      <td>Juan</td>\n",
       "      <td>0</td>\n",
       "    </tr>\n",
       "    <tr>\n",
       "      <th>8</th>\n",
       "      <td>Almudena</td>\n",
       "      <td>0</td>\n",
       "    </tr>\n",
       "    <tr>\n",
       "      <th>9</th>\n",
       "      <td>Khadija</td>\n",
       "      <td>0</td>\n",
       "    </tr>\n",
       "  </tbody>\n",
       "</table>\n",
       "</div>"
      ],
      "text/plain": [
       "     Nombre  Count\n",
       "0   Gonzalo      1\n",
       "1     Jaime      1\n",
       "2   Nicolas      1\n",
       "3    Carlos      0\n",
       "4    Teresa      0\n",
       "5     Sonia      0\n",
       "6    Noelia      0\n",
       "7      Juan      0\n",
       "8  Almudena      0\n",
       "9   Khadija      0"
      ]
     },
     "execution_count": 3,
     "metadata": {},
     "output_type": "execute_result"
    }
   ],
   "source": [
    "data = pd.read_csv('offtopic_history.csv',\n",
    "                  names = [\"Nombre\", \"Count\"])\n",
    "data"
   ]
  },
  {
   "cell_type": "markdown",
   "id": "89e6bc9a",
   "metadata": {},
   "source": [
    "## Determinar a quien le toca el siguiente offtopic"
   ]
  },
  {
   "cell_type": "code",
   "execution_count": 4,
   "id": "07bedc80",
   "metadata": {},
   "outputs": [
    {
     "name": "stdout",
     "output_type": "stream",
     "text": [
      "Siguiente offtopic: Carlos\n"
     ]
    }
   ],
   "source": [
    "siguiente = next_turn(data)\n",
    "print(f\"Siguiente offtopic: {siguiente}\")"
   ]
  },
  {
   "cell_type": "markdown",
   "id": "0dd0476a",
   "metadata": {},
   "source": [
    "## Actualizar el dataset (una vez que la persona ya presento)"
   ]
  },
  {
   "cell_type": "code",
   "execution_count": 5,
   "id": "f7ad5dc5",
   "metadata": {},
   "outputs": [
    {
     "data": {
      "text/html": [
       "<div>\n",
       "<style scoped>\n",
       "    .dataframe tbody tr th:only-of-type {\n",
       "        vertical-align: middle;\n",
       "    }\n",
       "\n",
       "    .dataframe tbody tr th {\n",
       "        vertical-align: top;\n",
       "    }\n",
       "\n",
       "    .dataframe thead th {\n",
       "        text-align: right;\n",
       "    }\n",
       "</style>\n",
       "<table border=\"1\" class=\"dataframe\">\n",
       "  <thead>\n",
       "    <tr style=\"text-align: right;\">\n",
       "      <th></th>\n",
       "      <th>Nombre</th>\n",
       "      <th>Count</th>\n",
       "    </tr>\n",
       "  </thead>\n",
       "  <tbody>\n",
       "    <tr>\n",
       "      <th>0</th>\n",
       "      <td>Gonzalo</td>\n",
       "      <td>1</td>\n",
       "    </tr>\n",
       "    <tr>\n",
       "      <th>1</th>\n",
       "      <td>Jaime</td>\n",
       "      <td>1</td>\n",
       "    </tr>\n",
       "    <tr>\n",
       "      <th>2</th>\n",
       "      <td>Nicolas</td>\n",
       "      <td>1</td>\n",
       "    </tr>\n",
       "    <tr>\n",
       "      <th>3</th>\n",
       "      <td>Carlos</td>\n",
       "      <td>1</td>\n",
       "    </tr>\n",
       "    <tr>\n",
       "      <th>4</th>\n",
       "      <td>Teresa</td>\n",
       "      <td>0</td>\n",
       "    </tr>\n",
       "    <tr>\n",
       "      <th>5</th>\n",
       "      <td>Sonia</td>\n",
       "      <td>0</td>\n",
       "    </tr>\n",
       "    <tr>\n",
       "      <th>6</th>\n",
       "      <td>Noelia</td>\n",
       "      <td>0</td>\n",
       "    </tr>\n",
       "    <tr>\n",
       "      <th>7</th>\n",
       "      <td>Juan</td>\n",
       "      <td>0</td>\n",
       "    </tr>\n",
       "    <tr>\n",
       "      <th>8</th>\n",
       "      <td>Almudena</td>\n",
       "      <td>0</td>\n",
       "    </tr>\n",
       "    <tr>\n",
       "      <th>9</th>\n",
       "      <td>Khadija</td>\n",
       "      <td>0</td>\n",
       "    </tr>\n",
       "  </tbody>\n",
       "</table>\n",
       "</div>"
      ],
      "text/plain": [
       "     Nombre  Count\n",
       "0   Gonzalo      1\n",
       "1     Jaime      1\n",
       "2   Nicolas      1\n",
       "3    Carlos      1\n",
       "4    Teresa      0\n",
       "5     Sonia      0\n",
       "6    Noelia      0\n",
       "7      Juan      0\n",
       "8  Almudena      0\n",
       "9   Khadija      0"
      ]
     },
     "execution_count": 5,
     "metadata": {},
     "output_type": "execute_result"
    }
   ],
   "source": [
    "update_dataset(data, siguiente)\n",
    "data"
   ]
  },
  {
   "cell_type": "markdown",
   "id": "2ae3a7b7",
   "metadata": {},
   "source": [
    "## Guardar cambios y actualizar el archivo CSV"
   ]
  },
  {
   "cell_type": "code",
   "execution_count": null,
   "id": "1cbe2660",
   "metadata": {},
   "outputs": [],
   "source": [
    "nombre_archivo = 'offtopic_history.csv'\n",
    "guardar_cambios(data, nombre_archivo)"
   ]
  },
  {
   "cell_type": "markdown",
   "id": "9d946a5d",
   "metadata": {},
   "source": [
    "## Actualizacion manual (opcional)"
   ]
  },
  {
   "cell_type": "code",
   "execution_count": null,
   "id": "9ffe1846",
   "metadata": {},
   "outputs": [],
   "source": [
    "# La actualizacion manual permite cambiar varios valores a la vez si se usan listas en los argumentos\n",
    "lista_nombres = [\"Teresa\", \"Juan\", \"Khadija\"]\n",
    "lista_valores = [2, 3, 5]\n",
    "manual_update(data, lista_nombres, lista_valores)\n",
    "data"
   ]
  },
  {
   "cell_type": "code",
   "execution_count": null,
   "id": "ac979c38",
   "metadata": {},
   "outputs": [],
   "source": [
    "# Otro ejemplo \n",
    "alumnos = [\"Teresa\", \"Jaime\", \"Noelia\", \"Khadija\", \"Nicolas\", \\\n",
    "         \"Gonzalo\", \"Carlos\", \"Juan\", \"Sonia\", \"Almudena\"]\n",
    "valores = [1 for i in alumnos]\n",
    "manual_update(data, alumnos, valores)\n",
    "data"
   ]
  }
 ],
 "metadata": {
  "kernelspec": {
   "display_name": "Python 3.9.7 ('base')",
   "language": "python",
   "name": "python3"
  },
  "language_info": {
   "codemirror_mode": {
    "name": "ipython",
    "version": 3
   },
   "file_extension": ".py",
   "mimetype": "text/x-python",
   "name": "python",
   "nbconvert_exporter": "python",
   "pygments_lexer": "ipython3",
   "version": "3.9.7"
  },
  "vscode": {
   "interpreter": {
    "hash": "ad2bdc8ecc057115af97d19610ffacc2b4e99fae6737bb82f5d7fb13d2f2c186"
   }
  }
 },
 "nbformat": 4,
 "nbformat_minor": 5
}
