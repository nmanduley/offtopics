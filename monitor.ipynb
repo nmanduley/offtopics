{
 "cells": [
  {
   "cell_type": "markdown",
   "id": "93526c2c",
   "metadata": {},
   "source": [
    "## Librerias y funciones utilizadas"
   ]
  },
  {
   "cell_type": "code",
   "execution_count": 1,
   "id": "4e87fe25",
   "metadata": {},
   "outputs": [],
   "source": [
    "import pandas as pd\n",
    "import random\n",
    "\n",
    "\n",
    "def next_turn(dataframe):\n",
    "    \"\"\"Examina el dataset y escoge el primer nombre con el valor minimo de la columna Count\"\"\"\n",
    "    count_min = dataframe[\"Count\"].min()\n",
    "    return dataframe[dataframe[\"Count\"]==count_min][\"Nombre\"].iloc[0]\n",
    "\n",
    "\n",
    "def next_turn_random(dataframe):\n",
    "    \"\"\"Selecciona un nombre aleatorio entre los que tengan el valor minimo de la columna Count\"\"\"\n",
    "    count_min = data[\"Count\"].min()\n",
    "    candidatos = data[data[\"Count\"] == count_min]\n",
    "    nombre_aleatorio = candidatos.sample()\n",
    "    return nombre_aleatorio[\"Nombre\"].to_string().split()[1] \n",
    "\n",
    "\n",
    "def update_dataset(dataframe, name):\n",
    "    \"\"\"Suma 1 al count del nombre especificado\"\"\"\n",
    "    dataframe.loc[dataframe[\"Nombre\"] == name, \"Count\"] += 1\n",
    "    return dataframe\n",
    "\n",
    "\n",
    "def manual_update(dataframe, names, count_values):\n",
    "    \"\"\"Actualizar manualmente el dataframe: 'name' y 'count_value' pueden ser listas, en cuyo caso \n",
    "    deberan tener el mismo numero de elementos\"\"\"\n",
    "    if type(names) is list:\n",
    "        for i in range(0, len(names)):\n",
    "            dataframe.loc[dataframe[\"Nombre\"] == names[i], \"Count\"] = count_values[i]\n",
    "        return dataframe\n",
    "    else:\n",
    "        dataframe.loc[dataframe[\"Nombre\"] == names, \"Count\"] = count_values\n",
    "        return dataframe\n",
    "\n",
    "\n",
    "def guardar_cambios(dataframe, filename):\n",
    "    \"\"\"Guarda el dataframe en formato CSV con el nombre especificado\"\"\"\n",
    "    dataframe.to_csv(filename, index=False, header=False)"
   ]
  },
  {
   "cell_type": "markdown",
   "id": "65f5e6b9",
   "metadata": {},
   "source": [
    "## Leer base de datos"
   ]
  },
  {
   "cell_type": "code",
   "execution_count": 9,
   "id": "8151ded7",
   "metadata": {},
   "outputs": [
    {
     "data": {
      "text/html": [
       "<div>\n",
       "<style scoped>\n",
       "    .dataframe tbody tr th:only-of-type {\n",
       "        vertical-align: middle;\n",
       "    }\n",
       "\n",
       "    .dataframe tbody tr th {\n",
       "        vertical-align: top;\n",
       "    }\n",
       "\n",
       "    .dataframe thead th {\n",
       "        text-align: right;\n",
       "    }\n",
       "</style>\n",
       "<table border=\"1\" class=\"dataframe\">\n",
       "  <thead>\n",
       "    <tr style=\"text-align: right;\">\n",
       "      <th></th>\n",
       "      <th>Nombre</th>\n",
       "      <th>Count</th>\n",
       "    </tr>\n",
       "  </thead>\n",
       "  <tbody>\n",
       "    <tr>\n",
       "      <th>0</th>\n",
       "      <td>Santino</td>\n",
       "      <td>3</td>\n",
       "    </tr>\n",
       "    <tr>\n",
       "      <th>1</th>\n",
       "      <td>Daniel</td>\n",
       "      <td>4</td>\n",
       "    </tr>\n",
       "    <tr>\n",
       "      <th>2</th>\n",
       "      <td>Gonzalo</td>\n",
       "      <td>4</td>\n",
       "    </tr>\n",
       "    <tr>\n",
       "      <th>3</th>\n",
       "      <td>Jaime</td>\n",
       "      <td>3</td>\n",
       "    </tr>\n",
       "    <tr>\n",
       "      <th>4</th>\n",
       "      <td>Nicolas</td>\n",
       "      <td>4</td>\n",
       "    </tr>\n",
       "    <tr>\n",
       "      <th>5</th>\n",
       "      <td>Carlos</td>\n",
       "      <td>20</td>\n",
       "    </tr>\n",
       "    <tr>\n",
       "      <th>6</th>\n",
       "      <td>Khadija</td>\n",
       "      <td>4</td>\n",
       "    </tr>\n",
       "    <tr>\n",
       "      <th>7</th>\n",
       "      <td>Noelia</td>\n",
       "      <td>4</td>\n",
       "    </tr>\n",
       "    <tr>\n",
       "      <th>8</th>\n",
       "      <td>Sonia</td>\n",
       "      <td>3</td>\n",
       "    </tr>\n",
       "    <tr>\n",
       "      <th>9</th>\n",
       "      <td>Almudena</td>\n",
       "      <td>4</td>\n",
       "    </tr>\n",
       "    <tr>\n",
       "      <th>10</th>\n",
       "      <td>Teresa</td>\n",
       "      <td>3</td>\n",
       "    </tr>\n",
       "    <tr>\n",
       "      <th>11</th>\n",
       "      <td>Juan Pablo</td>\n",
       "      <td>10</td>\n",
       "    </tr>\n",
       "  </tbody>\n",
       "</table>\n",
       "</div>"
      ],
      "text/plain": [
       "        Nombre  Count\n",
       "0      Santino      3\n",
       "1       Daniel      4\n",
       "2      Gonzalo      4\n",
       "3        Jaime      3\n",
       "4      Nicolas      4\n",
       "5       Carlos     20\n",
       "6      Khadija      4\n",
       "7       Noelia      4\n",
       "8        Sonia      3\n",
       "9     Almudena      4\n",
       "10      Teresa      3\n",
       "11  Juan Pablo     10"
      ]
     },
     "execution_count": 9,
     "metadata": {},
     "output_type": "execute_result"
    }
   ],
   "source": [
    "data = pd.read_csv('offtopic_history.csv',\n",
    "                  names = [\"Nombre\", \"Count\"])\n",
    "data"
   ]
  },
  {
   "cell_type": "markdown",
   "id": "89e6bc9a",
   "metadata": {},
   "source": [
    "## Determinar a quien le toca el siguiente offtopic"
   ]
  },
  {
   "cell_type": "markdown",
   "id": "62d65682",
   "metadata": {},
   "source": [
    "#### a) Segun el orden fijo"
   ]
  },
  {
   "cell_type": "code",
   "execution_count": null,
   "id": "07bedc80",
   "metadata": {},
   "outputs": [],
   "source": [
    "# # Orden fijo\n",
    "# siguiente = next_turn(data[2:])\n",
    "# print(f\"Siguiente offtopic: {siguiente}\")"
   ]
  },
  {
   "cell_type": "markdown",
   "id": "371dd919",
   "metadata": {},
   "source": [
    "#### b) Aleatoriamente"
   ]
  },
  {
   "cell_type": "code",
   "execution_count": 19,
   "id": "800e4610",
   "metadata": {},
   "outputs": [
    {
     "name": "stdout",
     "output_type": "stream",
     "text": [
      "Siguiente offtopic: Teresa\n"
     ]
    }
   ],
   "source": [
    "# Seleccionar aleatoriamente entre los que tengan menos offtopics\n",
    "siguiente = [next_turn_random(data)]\n",
    "print(f\"Siguiente offtopic: {siguiente[0]}\")"
   ]
  },
  {
   "cell_type": "markdown",
   "id": "0dd0476a",
   "metadata": {},
   "source": [
    "## Actualizar el dataset (una vez que se presente el offtopic)"
   ]
  },
  {
   "cell_type": "code",
   "execution_count": 3,
   "id": "f7ad5dc5",
   "metadata": {},
   "outputs": [
    {
     "data": {
      "text/html": [
       "<div>\n",
       "<style scoped>\n",
       "    .dataframe tbody tr th:only-of-type {\n",
       "        vertical-align: middle;\n",
       "    }\n",
       "\n",
       "    .dataframe tbody tr th {\n",
       "        vertical-align: top;\n",
       "    }\n",
       "\n",
       "    .dataframe thead th {\n",
       "        text-align: right;\n",
       "    }\n",
       "</style>\n",
       "<table border=\"1\" class=\"dataframe\">\n",
       "  <thead>\n",
       "    <tr style=\"text-align: right;\">\n",
       "      <th></th>\n",
       "      <th>Nombre</th>\n",
       "      <th>Count</th>\n",
       "    </tr>\n",
       "  </thead>\n",
       "  <tbody>\n",
       "    <tr>\n",
       "      <th>0</th>\n",
       "      <td>Santino</td>\n",
       "      <td>3</td>\n",
       "    </tr>\n",
       "    <tr>\n",
       "      <th>1</th>\n",
       "      <td>Daniel</td>\n",
       "      <td>4</td>\n",
       "    </tr>\n",
       "    <tr>\n",
       "      <th>2</th>\n",
       "      <td>Gonzalo</td>\n",
       "      <td>4</td>\n",
       "    </tr>\n",
       "    <tr>\n",
       "      <th>3</th>\n",
       "      <td>Jaime</td>\n",
       "      <td>3</td>\n",
       "    </tr>\n",
       "    <tr>\n",
       "      <th>4</th>\n",
       "      <td>Nicolas</td>\n",
       "      <td>4</td>\n",
       "    </tr>\n",
       "    <tr>\n",
       "      <th>5</th>\n",
       "      <td>Carlos</td>\n",
       "      <td>10</td>\n",
       "    </tr>\n",
       "    <tr>\n",
       "      <th>6</th>\n",
       "      <td>Khadija</td>\n",
       "      <td>4</td>\n",
       "    </tr>\n",
       "    <tr>\n",
       "      <th>7</th>\n",
       "      <td>Noelia</td>\n",
       "      <td>4</td>\n",
       "    </tr>\n",
       "    <tr>\n",
       "      <th>8</th>\n",
       "      <td>Sonia</td>\n",
       "      <td>3</td>\n",
       "    </tr>\n",
       "    <tr>\n",
       "      <th>9</th>\n",
       "      <td>Almudena</td>\n",
       "      <td>4</td>\n",
       "    </tr>\n",
       "    <tr>\n",
       "      <th>10</th>\n",
       "      <td>Teresa</td>\n",
       "      <td>3</td>\n",
       "    </tr>\n",
       "    <tr>\n",
       "      <th>11</th>\n",
       "      <td>Juan Pablo</td>\n",
       "      <td>10</td>\n",
       "    </tr>\n",
       "  </tbody>\n",
       "</table>\n",
       "</div>"
      ],
      "text/plain": [
       "        Nombre  Count\n",
       "0      Santino      3\n",
       "1       Daniel      4\n",
       "2      Gonzalo      4\n",
       "3        Jaime      3\n",
       "4      Nicolas      4\n",
       "5       Carlos     10\n",
       "6      Khadija      4\n",
       "7       Noelia      4\n",
       "8        Sonia      3\n",
       "9     Almudena      4\n",
       "10      Teresa      3\n",
       "11  Juan Pablo     10"
      ]
     },
     "execution_count": 3,
     "metadata": {},
     "output_type": "execute_result"
    }
   ],
   "source": [
    "siguiente = [\"Carlos\", \"Teresa\"]\n",
    "for element in siguiente:\n",
    "    update_dataset(data, element)\n",
    "data"
   ]
  },
  {
   "cell_type": "markdown",
   "id": "2ae3a7b7",
   "metadata": {},
   "source": [
    "## Guardar cambios y actualizar el archivo CSV"
   ]
  },
  {
   "cell_type": "code",
   "execution_count": 8,
   "id": "1cbe2660",
   "metadata": {},
   "outputs": [],
   "source": [
    "nombre_archivo = 'offtopic_history.csv'\n",
    "guardar_cambios(data, nombre_archivo)"
   ]
  },
  {
   "cell_type": "markdown",
   "id": "9d946a5d",
   "metadata": {},
   "source": [
    "## Actualizacion manual (opcional)"
   ]
  },
  {
   "cell_type": "code",
   "execution_count": 7,
   "id": "9ffe1846",
   "metadata": {},
   "outputs": [
    {
     "data": {
      "text/html": [
       "<div>\n",
       "<style scoped>\n",
       "    .dataframe tbody tr th:only-of-type {\n",
       "        vertical-align: middle;\n",
       "    }\n",
       "\n",
       "    .dataframe tbody tr th {\n",
       "        vertical-align: top;\n",
       "    }\n",
       "\n",
       "    .dataframe thead th {\n",
       "        text-align: right;\n",
       "    }\n",
       "</style>\n",
       "<table border=\"1\" class=\"dataframe\">\n",
       "  <thead>\n",
       "    <tr style=\"text-align: right;\">\n",
       "      <th></th>\n",
       "      <th>Nombre</th>\n",
       "      <th>Count</th>\n",
       "    </tr>\n",
       "  </thead>\n",
       "  <tbody>\n",
       "    <tr>\n",
       "      <th>0</th>\n",
       "      <td>Santino</td>\n",
       "      <td>3</td>\n",
       "    </tr>\n",
       "    <tr>\n",
       "      <th>1</th>\n",
       "      <td>Daniel</td>\n",
       "      <td>4</td>\n",
       "    </tr>\n",
       "    <tr>\n",
       "      <th>2</th>\n",
       "      <td>Gonzalo</td>\n",
       "      <td>4</td>\n",
       "    </tr>\n",
       "    <tr>\n",
       "      <th>3</th>\n",
       "      <td>Jaime</td>\n",
       "      <td>3</td>\n",
       "    </tr>\n",
       "    <tr>\n",
       "      <th>4</th>\n",
       "      <td>Nicolas</td>\n",
       "      <td>4</td>\n",
       "    </tr>\n",
       "    <tr>\n",
       "      <th>5</th>\n",
       "      <td>Carlos</td>\n",
       "      <td>20</td>\n",
       "    </tr>\n",
       "    <tr>\n",
       "      <th>6</th>\n",
       "      <td>Khadija</td>\n",
       "      <td>4</td>\n",
       "    </tr>\n",
       "    <tr>\n",
       "      <th>7</th>\n",
       "      <td>Noelia</td>\n",
       "      <td>4</td>\n",
       "    </tr>\n",
       "    <tr>\n",
       "      <th>8</th>\n",
       "      <td>Sonia</td>\n",
       "      <td>3</td>\n",
       "    </tr>\n",
       "    <tr>\n",
       "      <th>9</th>\n",
       "      <td>Almudena</td>\n",
       "      <td>4</td>\n",
       "    </tr>\n",
       "    <tr>\n",
       "      <th>10</th>\n",
       "      <td>Teresa</td>\n",
       "      <td>3</td>\n",
       "    </tr>\n",
       "    <tr>\n",
       "      <th>11</th>\n",
       "      <td>Juan Pablo</td>\n",
       "      <td>10</td>\n",
       "    </tr>\n",
       "  </tbody>\n",
       "</table>\n",
       "</div>"
      ],
      "text/plain": [
       "        Nombre  Count\n",
       "0      Santino      3\n",
       "1       Daniel      4\n",
       "2      Gonzalo      4\n",
       "3        Jaime      3\n",
       "4      Nicolas      4\n",
       "5       Carlos     20\n",
       "6      Khadija      4\n",
       "7       Noelia      4\n",
       "8        Sonia      3\n",
       "9     Almudena      4\n",
       "10      Teresa      3\n",
       "11  Juan Pablo     10"
      ]
     },
     "execution_count": 7,
     "metadata": {},
     "output_type": "execute_result"
    }
   ],
   "source": [
    "# La actualizacion manual permite cambiar varios valores a la vez si se usan listas en los argumentos\n",
    "lista_nombres = [\"Carlos\", \"Juan Pablo\"] # 2 y 1 al 07/11/2022\n",
    "lista_valores = [20,10]\n",
    "manual_update(data, lista_nombres, lista_valores)\n",
    "data"
   ]
  },
  {
   "cell_type": "code",
   "execution_count": null,
   "id": "ac979c38",
   "metadata": {},
   "outputs": [],
   "source": [
    "# Otro ejemplo: fijar todos los valores a 1\n",
    "alumnos = [\"Teresa\", \"Jaime\", \"Noelia\", \"Khadija\", \"Nicolas\", \\\n",
    "         \"Gonzalo\", \"Carlos\", \"Juan Pablo\", \"Sonia\", \"Almudena\"]\n",
    "valores = [1 for i in alumnos]\n",
    "manual_update(data, alumnos, valores)\n",
    "data"
   ]
  }
 ],
 "metadata": {
  "kernelspec": {
   "display_name": "Python 3 (ipykernel)",
   "language": "python",
   "name": "python3"
  },
  "language_info": {
   "codemirror_mode": {
    "name": "ipython",
    "version": 3
   },
   "file_extension": ".py",
   "mimetype": "text/x-python",
   "name": "python",
   "nbconvert_exporter": "python",
   "pygments_lexer": "ipython3",
   "version": "3.9.12"
  },
  "vscode": {
   "interpreter": {
    "hash": "ad2bdc8ecc057115af97d19610ffacc2b4e99fae6737bb82f5d7fb13d2f2c186"
   }
  }
 },
 "nbformat": 4,
 "nbformat_minor": 5
}
